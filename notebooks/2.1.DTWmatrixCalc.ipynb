{
 "cells": [
  {
   "cell_type": "markdown",
   "id": "ea4fcd7e",
   "metadata": {},
   "source": [
    "# 2.1. DTW-Based distance matrix"
   ]
  },
  {
   "cell_type": "markdown",
   "id": "8fd0d42c",
   "metadata": {},
   "source": [
    "Calculating the distance matrix of pairwaise DTW distances between processed signals. Change `DTW_SAVE_PATH_3CLASS` in the `src.knn_load_data` file to adjust the output path."
   ]
  },
  {
   "cell_type": "code",
   "execution_count": 1,
   "id": "6a03c0ab",
   "metadata": {},
   "outputs": [],
   "source": [
    "from matplotlib import pyplot as plt\n",
    "import numpy as np\n",
    "import pandas as pd\n",
    "from tqdm import tqdm\n",
    "from time import perf_counter\n",
    "\n",
    "import sys \n",
    "sys.path.append('..')\n",
    "from src.constants import SAMPLES_DICT_3CLASS\n",
    "from src.knn_load_data import (\n",
    "    INDICES_SAVE_PATH_3CLASS, DTW_SAVE_PATH_3CLASS,\n",
    "    load_data, prefix_data_dir\n",
    ")\n",
    "from src.dtw import dist_matrix_parallel\n",
    "from src.signal_processing import SignalProcessor"
   ]
  },
  {
   "cell_type": "code",
   "execution_count": 2,
   "id": "4a59c44f",
   "metadata": {},
   "outputs": [],
   "source": [
    "SAMPLES_DICT_3CLASS = prefix_data_dir(SAMPLES_DICT_3CLASS, \"/mmfs1/gscratch/ml4ml/cailinw/pore_data/\")"
   ]
  },
  {
   "cell_type": "markdown",
   "id": "0e6ba109",
   "metadata": {},
   "source": [
    "### Load and process data"
   ]
  },
  {
   "cell_type": "code",
   "execution_count": 3,
   "id": "1a268a30",
   "metadata": {},
   "outputs": [
    {
     "name": "stdout",
     "output_type": "stream",
     "text": [
      "class_names=['heart', 'adrenal', 'aorta']\n",
      "num_classes=3\n",
      "num_samples=[4, 4, 4]\n",
      "In progress...\n",
      "Class aorta, replicate 4/4/4\r"
     ]
    }
   ],
   "source": [
    "data, labels, samples, indices, labels_key = load_data(\n",
    "    samples_dict=SAMPLES_DICT_3CLASS,\n",
    "    save_dir=INDICES_SAVE_PATH_3CLASS,\n",
    "    load_raw_signals=True\n",
    ")\n",
    "num_classes = 3"
   ]
  },
  {
   "cell_type": "code",
   "execution_count": 4,
   "id": "0e58021d",
   "metadata": {},
   "outputs": [
    {
     "name": "stderr",
     "output_type": "stream",
     "text": [
      "100%|██████████| 39360/39360 [00:00<00:00, 40887.40it/s]\n"
     ]
    },
    {
     "name": "stdout",
     "output_type": "stream",
     "text": [
      "(39360, 100)\n"
     ]
    }
   ],
   "source": [
    "signal_processor = SignalProcessor(\n",
    "    norm_method='nonorm',\n",
    "    downsample=True, downsample_rate=1000,\n",
    "    pad=True, pad_value=2, pad_len=100,\n",
    ")\n",
    "data, labels, samples, indices = signal_processor.transform(data, labels, samples, indices)\n",
    "print(data.shape)"
   ]
  },
  {
   "cell_type": "markdown",
   "id": "3a122bfb",
   "metadata": {
    "tags": []
   },
   "source": [
    "### Compute distance matrix"
   ]
  },
  {
   "cell_type": "code",
   "execution_count": 5,
   "id": "f93cf426",
   "metadata": {},
   "outputs": [
    {
     "name": "stdout",
     "output_type": "stream",
     "text": [
      "Computing distances...started processing window (0,0)\n",
      "Pooled in 4.669s\n",
      "Computing distances...started processing window (0,13122)\n",
      "Computing distances...started processing window (0,26244)\n",
      "Computing distances...started processing window (13122,0)\n",
      "Computing distances...started processing window (13122,13122)\n",
      "Computing distances...started processing window (13122,26244)\n",
      "Computing distances...started processing window (26244,0)\n",
      "Computing distances...started processing window (26244,13122)\n",
      "Computing distances...started processing window (26244,26244)\n",
      "Matrix computed in 25718.007s\n",
      "Symmetrized in 30.492s\n",
      "Finished computing matrix in 429.441s minutes\n"
     ]
    }
   ],
   "source": [
    "t0_outfnc = perf_counter()\n",
    "dist = dist_matrix_parallel(data, win=0.4)\n",
    "print(\"Finished computing matrix in %0.3fs minutes\" % ((perf_counter()-t0_outfnc)/60))"
   ]
  },
  {
   "cell_type": "code",
   "execution_count": 6,
   "id": "dff7f860",
   "metadata": {},
   "outputs": [],
   "source": [
    "import logging\n",
    "fname = f\"{DTW_SAVE_PATH_3CLASS}nonorm_nosmooth_100_nopad_3class\"\n",
    "np.save(fname, dist)\n",
    "!chmod 444 \"$fname\"\".npy\"\n",
    "logging.info(\"Saved everything successfully\")\n",
    "logging.info(\"You can find the matrix at %s .npy\" % (DTW_SAVE_PATH_3CLASS))"
   ]
  }
 ],
 "metadata": {
  "hide_input": false,
  "kernelspec": {
   "display_name": "Python 3 (ipykernel)",
   "language": "python",
   "name": "python3"
  },
  "language_info": {
   "codemirror_mode": {
    "name": "ipython",
    "version": 3
   },
   "file_extension": ".py",
   "mimetype": "text/x-python",
   "name": "python",
   "nbconvert_exporter": "python",
   "pygments_lexer": "ipython3",
   "version": "3.8.12"
  }
 },
 "nbformat": 4,
 "nbformat_minor": 5
}
