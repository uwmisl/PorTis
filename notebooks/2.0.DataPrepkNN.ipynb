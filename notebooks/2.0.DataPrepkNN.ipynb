{
 "cells": [
  {
   "cell_type": "markdown",
   "id": "5471f0ea",
   "metadata": {},
   "source": [
    "# 2.0. Data Prep for kNN\n",
    "\n",
    "In the kNN analysis, we use a slightly modified version of the data that contains balanced classes for each tissue and replicate before splitting them into training in test as it is done for the general neural network classifier.\n",
    "\n",
    "In this notebook, we demonstrate how to load data and balance all classes. The indices are saved to disk, so this step only needs to be run once. This step is important when training a classifier, since we want all classes and samples to be balances to prevent overfitting. If you want to just load all data for certain samples and classes, you can use the `load_data` function with `load_all_data=True`.\n",
    "\n",
    "The classifier is trained to classify individual signals as belonging to a heart, adrenal, or aorta sample. We have 4 technical replicates (runs on different days), so we use all data. The model will be trained on three different technical replicates (runs of different days) and tested on the other one.\n",
    "\n",
    "The nanopore was ran at a 10khz sampling frequency (10,000 points/second) and that the current was inversed every 10 seconds. Hence, the dataset consists of events from peptides that interacted with the nanopore for more than 3 seconds and less than 10 seconds (maximum time). We keep only signals with a length between 30,000 and 100,000."
   ]
  },
  {
   "cell_type": "code",
   "execution_count": 2,
   "id": "b4f88fab",
   "metadata": {},
   "outputs": [],
   "source": [
    "import sys \n",
    "sys.path.append('..')\n",
    "from src.constants import SAMPLES_DICT_3CLASS\n",
    "from src.knn_load_data import INDICES_SAVE_PATH_3CLASS, get_data_indices, prefix_data_dir"
   ]
  },
  {
   "cell_type": "code",
   "execution_count": 3,
   "id": "8a5663fb",
   "metadata": {},
   "outputs": [],
   "source": [
    "SAMPLES_DICT_3CLASS = prefix_data_dir(SAMPLES_DICT_3CLASS, \"/mmfs1/gscratch/ml4ml/cailinw/pore_data/\")"
   ]
  },
  {
   "cell_type": "code",
   "execution_count": 4,
   "id": "c9280007",
   "metadata": {},
   "outputs": [
    {
     "name": "stdout",
     "output_type": "stream",
     "text": [
      "{'heart': ['/mmfs1/gscratch/ml4ml/cailinw/pore_data/PorTis/segmented_peptides_raw_data/replicate1/segmented_peptides_raw_data_replicate1_heart.npy', '/mmfs1/gscratch/ml4ml/cailinw/pore_data/PorTis/segmented_peptides_raw_data/replicate2/segmented_peptides_raw_data_replicate2_heart.npy', '/mmfs1/gscratch/ml4ml/cailinw/pore_data/PorTis/segmented_peptides_raw_data/replicate3/segmented_peptides_raw_data_replicate3_heart.npy', '/mmfs1/gscratch/ml4ml/cailinw/pore_data/PorTis/segmented_peptides_raw_data/replicate4/segmented_peptides_raw_data_replicate4_heart.npy'], 'adrenal': ['/mmfs1/gscratch/ml4ml/cailinw/pore_data/PorTis/segmented_peptides_raw_data/replicate1/segmented_peptides_raw_data_replicate1_adrenal.npy', '/mmfs1/gscratch/ml4ml/cailinw/pore_data/PorTis/segmented_peptides_raw_data/replicate2/segmented_peptides_raw_data_replicate2_adrenal.npy', '/mmfs1/gscratch/ml4ml/cailinw/pore_data/PorTis/segmented_peptides_raw_data/replicate3/segmented_peptides_raw_data_replicate3_adrenal.npy', '/mmfs1/gscratch/ml4ml/cailinw/pore_data/PorTis/segmented_peptides_raw_data/replicate4/segmented_peptides_raw_data_replicate4_adrenal.npy'], 'aorta': ['/mmfs1/gscratch/ml4ml/cailinw/pore_data/PorTis/segmented_peptides_raw_data/replicate1/segmented_peptides_raw_data_replicate1_aorta.npy', '/mmfs1/gscratch/ml4ml/cailinw/pore_data/PorTis/segmented_peptides_raw_data/replicate2/segmented_peptides_raw_data_replicate2_aorta.npy', '/mmfs1/gscratch/ml4ml/cailinw/pore_data/PorTis/segmented_peptides_raw_data/replicate3/segmented_peptides_raw_data_replicate3_aorta.npy', '/mmfs1/gscratch/ml4ml/cailinw/pore_data/PorTis/segmented_peptides_raw_data/replicate4/segmented_peptides_raw_data_replicate4_aorta.npy']}\n"
     ]
    }
   ],
   "source": [
    "print(SAMPLES_DICT_3CLASS)"
   ]
  },
  {
   "cell_type": "markdown",
   "id": "0666b0d9",
   "metadata": {},
   "source": [
    "Define the `INDICES_SAVE_PATH_3CLASS` constant in `src.knn_load_data` to keep the indices for the signals in the balanced set to be used in knn related analysis."
   ]
  },
  {
   "cell_type": "code",
   "execution_count": 5,
   "id": "60cc4cec",
   "metadata": {},
   "outputs": [
    {
     "name": "stdout",
     "output_type": "stream",
     "text": [
      "class_names=['heart', 'adrenal', 'aorta']\n",
      "num_classes=3\n",
      "num_replicates=[4, 4, 4]\n",
      "In progress...\n",
      "\n",
      "\n",
      "Class heart, replicate 4/4\n",
      "\n",
      "Class adrenal, replicate 4/4\n",
      "\n",
      "Class aorta, replicate 4/4\r"
     ]
    }
   ],
   "source": [
    "# Get indices for each sample, such that all samples are balanced\n",
    "# Use the 3 classes (heart, adrenal, aorta)\n",
    "# Discard signals with length less than 30,000\n",
    "indices = get_data_indices(SAMPLES_DICT_3CLASS, 30000, INDICES_SAVE_PATH_3CLASS)"
   ]
  }
 ],
 "metadata": {
  "hide_input": false,
  "kernelspec": {
   "display_name": "Python 3 (ipykernel)",
   "language": "python",
   "name": "python3"
  },
  "language_info": {
   "codemirror_mode": {
    "name": "ipython",
    "version": 3
   },
   "file_extension": ".py",
   "mimetype": "text/x-python",
   "name": "python",
   "nbconvert_exporter": "python",
   "pygments_lexer": "ipython3",
   "version": "3.8.12"
  }
 },
 "nbformat": 4,
 "nbformat_minor": 5
}
